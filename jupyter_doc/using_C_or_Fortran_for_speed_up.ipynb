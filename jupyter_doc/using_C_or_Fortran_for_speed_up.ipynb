{
 "cells": [
  {
   "cell_type": "code",
   "execution_count": 1,
   "metadata": {
    "collapsed": true
   },
   "outputs": [],
   "source": [
    "## Notebook to measure the speed-up in using C or Fortran over Python in the scanning strategy module\n",
    "## Make sure you already compiled the fortran sources before running this test.\n",
    "## Also, weave has a problem while run inside a notebook. \n",
    "## Therefore re-run several times the cell %timeit scan_c.run() is you have compilation problems.\n",
    "\n",
    "## Long story short: x1000 speed-up using Fortran or C compared to default Python."
   ]
  },
  {
   "cell_type": "code",
   "execution_count": 2,
   "metadata": {
    "collapsed": true
   },
   "outputs": [],
   "source": [
    "## Include the path to instrument\n",
    "import sys\n",
    "import os\n",
    "import numpy as np\n",
    "sys.path.insert(0,os.path.realpath(os.path.join(os.getcwd(),'../instrument')))\n",
    "\n",
    "## See http://simonsobservatory.wikidot.com/instrument-systmodule for more informations.\n",
    "from scanning_strategy import scanning_strategy\n",
    "\n",
    "scan_p = scanning_strategy(nCES=1, start_date='2013/1/1 00:00:00',\n",
    "                 telescope_longitude='-67:46.816',\n",
    "                 telescope_latitude='-22:56.396', telescope_elevation=5200.,\n",
    "                 name_strategy='deep_patch', sampling_freq=8., sky_speed=0.4,\n",
    "                 language='python')\n",
    "scan_f = scanning_strategy(nCES=1, start_date='2013/1/1 00:00:00',\n",
    "                 telescope_longitude='-67:46.816',\n",
    "                 telescope_latitude='-22:56.396', telescope_elevation=5200.,\n",
    "                 name_strategy='deep_patch', sampling_freq=8., sky_speed=0.4,\n",
    "                 language='fortran')\n",
    "scan_c = scanning_strategy(nCES=1, start_date='2013/1/1 00:00:00',\n",
    "                 telescope_longitude='-67:46.816',\n",
    "                 telescope_latitude='-22:56.396', telescope_elevation=5200.,\n",
    "                 name_strategy='deep_patch', sampling_freq=8., sky_speed=0.4,\n",
    "                 language='C')"
   ]
  },
  {
   "cell_type": "code",
   "execution_count": 3,
   "metadata": {
    "collapsed": false
   },
   "outputs": [
    {
     "name": "stdout",
     "output_type": "stream",
     "text": [
      "1 loop, best of 3: 2.43 s per loop\n"
     ]
    }
   ],
   "source": [
    "%timeit scan_p.run()"
   ]
  },
  {
   "cell_type": "code",
   "execution_count": 4,
   "metadata": {
    "collapsed": false
   },
   "outputs": [
    {
     "name": "stdout",
     "output_type": "stream",
     "text": [
      "100 loops, best of 3: 2.22 ms per loop\n"
     ]
    }
   ],
   "source": [
    "%timeit scan_f.run()"
   ]
  },
  {
   "cell_type": "code",
   "execution_count": 6,
   "metadata": {
    "collapsed": false
   },
   "outputs": [
    {
     "name": "stdout",
     "output_type": "stream",
     "text": [
      "100 loops, best of 3: 2.4 ms per loop\n"
     ]
    }
   ],
   "source": [
    "%timeit scan_c.run()"
   ]
  },
  {
   "cell_type": "code",
   "execution_count": 7,
   "metadata": {
    "collapsed": false
   },
   "outputs": [],
   "source": [
    "assert np.sum(scan_p.scan0['azimuth'] == scan_f.scan0['azimuth']) == len(scan_p.scan0['azimuth'])\n",
    "assert np.sum(scan_p.scan0['azimuth'] == scan_c.scan0['azimuth']) == len(scan_p.scan0['azimuth'])"
   ]
  },
  {
   "cell_type": "code",
   "execution_count": 8,
   "metadata": {
    "collapsed": false
   },
   "outputs": [
    {
     "name": "stdout",
     "output_type": "stream",
     "text": [
      "{'elevation': array([ 0.52359878,  0.52359878,  0.52359878, ...,  0.52359878,\n",
      "        0.52359878,  0.52359878]), 'firstmjd': 56293.620254629634, 'sky_speed': 0.4, 'nCES': 1, 'clock-utc': array([ 56293.62037037,  56293.62037182,  56293.62037326, ...,\n",
      "        56293.82290067,  56293.82290212,  56293.82290357]), 'CES': 0, 'RA': array([ 0.        ,  5.69966562,  5.69956417, ...,  0.6958662 ,\n",
      "        0.69578204,  0.69569683]), 'azimuth': array([ 2.5172238 ,  2.51823147,  2.51923914, ...,  2.50613947,\n",
      "        2.50714714,  2.50815481]), 'sample_rate': 8.0, 'Dec': array([ 0.        , -1.00281812, -1.00368897, ..., -0.99222918,\n",
      "       -0.99310055, -0.99397189]), 'lastmjd': 56293.823019306597}\n",
      "{'elevation': array([ 0.52359878,  0.52359878,  0.52359878, ...,  0.52359878,\n",
      "        0.52359878,  0.52359878]), 'firstmjd': 56293.620254629634, 'sky_speed': 0.4, 'nCES': 1, 'clock-utc': array([ 56293.62037037,  56293.62037182,  56293.62037326, ...,\n",
      "        56293.82290067,  56293.82290212,  56293.82290357]), 'CES': 0, 'RA': array([ 0.,  0.,  0., ...,  0.,  0.,  0.]), 'azimuth': array([ 2.5172238 ,  2.51823147,  2.51923914, ...,  2.50613947,\n",
      "        2.50714714,  2.50815481]), 'sample_rate': 8.0, 'Dec': array([ 0.,  0.,  0., ...,  0.,  0.,  0.]), 'lastmjd': 56293.823019306597}\n"
     ]
    }
   ],
   "source": [
    "print scan_p.scan0\n",
    "print scan_f.scan0"
   ]
  }
 ],
 "metadata": {
  "kernelspec": {
   "display_name": "Python 2",
   "language": "python",
   "name": "python2"
  },
  "language_info": {
   "codemirror_mode": {
    "name": "ipython",
    "version": 2
   },
   "file_extension": ".py",
   "mimetype": "text/x-python",
   "name": "python",
   "nbconvert_exporter": "python",
   "pygments_lexer": "ipython2",
   "version": "2.7.13"
  }
 },
 "nbformat": 4,
 "nbformat_minor": 1
}
