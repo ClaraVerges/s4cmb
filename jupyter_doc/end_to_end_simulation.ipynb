{
 "cells": [
  {
   "cell_type": "code",
   "execution_count": 1,
   "metadata": {
    "collapsed": true
   },
   "outputs": [],
   "source": [
    "## This notebook describes how to use some basic functionalities of s4cmb such as\n",
    "## * simulate an input sky\n",
    "## * simulate an instrument \n",
    "## * simulate a scanning strategy\n",
    "## * simulate TOD from the 3 previous guys\n",
    "## * project back your TOD to sky maps."
   ]
  },
  {
   "cell_type": "code",
   "execution_count": 2,
   "metadata": {
    "collapsed": false
   },
   "outputs": [],
   "source": [
    "## Include the path to the package\n",
    "import sys\n",
    "import os\n",
    "sys.path.insert(0,os.path.realpath(os.path.join(os.getcwd(),'../s4cmb')))\n",
    "\n",
    "## Import modules and routines\n",
    "from input_sky import HealpixFitsMap\n",
    "from input_sky import create_sky_map\n",
    "from input_sky import write_healpix_cmbmap\n",
    "\n",
    "from instrument import Hardware\n",
    "\n",
    "from scanning_strategy import ScanningStrategy\n",
    "\n",
    "from tod import TimeOrderedDataPairDiff\n",
    "from tod import OutputSkyMap\n",
    "from tod import partial2full\n",
    "\n",
    "## Other packages needed\n",
    "import healpy as hp\n",
    "import pylab as pl\n",
    "import numpy as np\n",
    "\n",
    "try:\n",
    "    from tqdm import *\n",
    "except ImportError:\n",
    "    tqdm = lambda x: x"
   ]
  },
  {
   "cell_type": "code",
   "execution_count": 3,
   "metadata": {
    "collapsed": false
   },
   "outputs": [],
   "source": [
    "## Create a fake input if necessary\n",
    "if not os.path.isfile('mymaps.fits'):\n",
    "    sky = create_sky_map('../s4cmb/data/test_data_set_lensedCls.dat', nside=512)\n",
    "    write_healpix_cmbmap(output_filename='mymaps.fits', data=sky, nside=512)"
   ]
  },
  {
   "cell_type": "code",
   "execution_count": 4,
   "metadata": {
    "collapsed": true
   },
   "outputs": [],
   "source": [
    "###########################################################################################\n",
    "## START OF THE SIMULATION\n",
    "## Flow is the following: \n",
    "##   sky -> instrument -> scanning strategy -> MAP2TOD -> (systematics) -> TOD2MAP\n",
    "###########################################################################################"
   ]
  },
  {
   "cell_type": "code",
   "execution_count": 5,
   "metadata": {
    "collapsed": false
   },
   "outputs": [],
   "source": [
    "## Initialise our input maps\n",
    "sky_in = HealpixFitsMap('mymaps.fits', do_pol=True, verbose=False, no_ileak=False, no_quleak=False)"
   ]
  },
  {
   "cell_type": "code",
   "execution_count": 6,
   "metadata": {
    "collapsed": false
   },
   "outputs": [],
   "source": [
    "## Initialise our instrument\n",
    "## Generate a focal plane with 4 Crate boards, each with 1 MUX board, \n",
    "## each with 1 Squid, each with 16 pairs of bolometers.\n",
    "## The focal plane is 60 cm wide (square),\n",
    "## and each detector beam is Gaussian with FWHM of 3.5 arcmin.\n",
    "## We choose a pointing model with 5 parameters.\n",
    "## Finally, we mount a continously rotating HWP @ 2Hz on the instrument.\n",
    "inst = Hardware(ncrate=4, ndfmux_per_crate=1,\n",
    "                nsquid_per_mux=1, npair_per_squid=16,\n",
    "                fp_size=60., FWHM=3.5, \n",
    "                beam_seed=58347, projected_fp_size=3., pm_name='5params',\n",
    "                type_HWP='CRHWP', freq_HWP=2., angle_HWP=0., debug=False)"
   ]
  },
  {
   "cell_type": "code",
   "execution_count": 7,
   "metadata": {
    "collapsed": false
   },
   "outputs": [],
   "source": [
    "## Initialize our scanning strategy\n",
    "## Our scanning strategy will consist in scanning the Southern sky from Chile.\n",
    "## We will perform 1 deep scan (CES) of roughly 4h.\n",
    "## We will start the observation January, 1st 2013.\n",
    "## We will set the sampling frequency of the detector to be 8 Hz, and we will \n",
    "## scan the sky at a speed of 0.4 deg/s.\n",
    "scan = ScanningStrategy(nCES=12, start_date='2013/1/1 00:00:00',\n",
    "                        telescope_longitude='-67:46.816',\n",
    "                        telescope_latitude='-22:56.396', telescope_elevation=5200.,\n",
    "                        name_strategy='deep_patch', sampling_freq=8., sky_speed=0.4,\n",
    "                        ut1utc_fn='../s4cmb/data/ut1utc.ephem', language='fortran')\n",
    "scan.run()"
   ]
  },
  {
   "cell_type": "code",
   "execution_count": 8,
   "metadata": {
    "collapsed": false
   },
   "outputs": [
    {
     "name": "stderr",
     "output_type": "stream",
     "text": [
      "100%|██████████| 128/128 [00:06<00:00, 20.53it/s]\n",
      "100%|██████████| 128/128 [00:04<00:00, 28.11it/s]\n",
      "100%|██████████| 128/128 [00:04<00:00, 28.53it/s]\n",
      "100%|██████████| 128/128 [00:04<00:00, 28.60it/s]\n",
      "100%|██████████| 128/128 [00:04<00:00, 27.72it/s]\n",
      "100%|██████████| 128/128 [00:04<00:00, 28.90it/s]\n",
      "100%|██████████| 128/128 [00:04<00:00, 30.10it/s]\n",
      "100%|██████████| 128/128 [00:04<00:00, 28.43it/s]\n",
      "100%|██████████| 128/128 [00:04<00:00, 30.78it/s]\n",
      "100%|██████████| 128/128 [00:04<00:00, 31.66it/s]\n",
      "100%|██████████| 128/128 [00:03<00:00, 32.20it/s]\n",
      "100%|██████████| 128/128 [00:06<00:00, 20.72it/s]\n"
     ]
    }
   ],
   "source": [
    "## Let's now generate our TOD from our input sky, instrument, and scanning strategy\n",
    "## Firts, we will use the difference of pairs of detectors to reconstruct the polarisation (no demodulation).\n",
    "## Once we will have the timestreams, we will reconstruct our maps on a sky patch of width 20 deg at  \n",
    "## a resolution nside = 512.\n",
    "\n",
    "## MAP2TOD: scan the input sky to generate timestream channel-by-channel.\n",
    "## this is currently the bottleneck in computation. Need to speed-up this routine!\n",
    "## Hopefully everything is linear ;-)\n",
    "\n",
    "## This is where you want to parallelize for big runs, so that different processors (or groups or procs)\n",
    "## focus on different scans. Here is the serial version:\n",
    "nside_out = 512\n",
    "for CESnumber in range(scan.nCES):\n",
    "    tod = TimeOrderedDataPairDiff(inst, scan, sky_in, CESnumber=CESnumber, nside_out=nside_out, width=20.)\n",
    "    if CESnumber == 0:\n",
    "        sky_out_tot = OutputSkyMap(nside=nside_out, obspix=tod.obspix)\n",
    "    d = []\n",
    "    for det in tqdm(range(inst.focal_plane.nbolometer)):\n",
    "        d.append(tod.map2tod(det))\n",
    "    tod.tod2map(np.array(d), sky_out_tot)"
   ]
  },
  {
   "cell_type": "code",
   "execution_count": 11,
   "metadata": {
    "collapsed": false
   },
   "outputs": [
    {
     "data": {
      "image/png": "[encoded data removed]",
      "text/plain": [
       "<matplotlib.figure.Figure at 0x10911e310>"
      ]
     },
     "metadata": {},
     "output_type": "display_data"
    }
   ],
   "source": [
    "## In the absence of systematics, these operations should not change the \n",
    "## signal. Let's check that we did not harm the signal.\n",
    "xsize = 300\n",
    "\n",
    "## Temperature\n",
    "sky_out = partial2full(sky_out_tot.get_I(), sky_out_tot.obspix, sky_out_tot.nside, fill_with=0.0)\n",
    "mask = sky_out == 0.0\n",
    "sky_in.I[mask] = np.nan\n",
    "sky_out[mask] = np.nan\n",
    "hp.gnomview(sky_in.I, rot=[0, -57.5], xsize=xsize, reso=6.9, sub=331, title='Input', notext=True, min=-250, max=250)\n",
    "hp.gnomview(sky_out, rot=[0, -57.5], xsize=xsize, reso=6.9, sub=332, title='Output', notext=True, min=-250, max=250)\n",
    "hp.gnomview(sky_in.I - sky_out, rot=[0, -57.5], xsize=xsize, reso=6.9, sub=333, title='Difference', notext=True)\n",
    "\n",
    "## Stokes Q\n",
    "sky_out = partial2full(sky_out_tot.get_QU()[0], sky_out_tot.obspix, sky_out_tot.nside, fill_with=0.0)\n",
    "mask = sky_out == 0\n",
    "sky_in.Q[mask] = np.nan\n",
    "sky_out[mask] = np.nan\n",
    "\n",
    "hp.gnomview(sky_in.Q, rot=[0, -57.5], xsize=xsize, reso=6.9, sub=334, notext=True, min=-15, max=15, title='')\n",
    "hp.gnomview(sky_out, rot=[0, -57.5], xsize=xsize, reso=6.9, sub=335,  notext=True, min=-15, max=15, title='')\n",
    "hp.gnomview(sky_in.Q - sky_out, rot=[0, -57.5], xsize=xsize, reso=6.9, sub=336, notext=True, title='')\n",
    "\n",
    "## Stokes U\n",
    "sky_out = partial2full(sky_out_tot.get_QU()[1], sky_out_tot.obspix, sky_out_tot.nside, fill_with=0.0)\n",
    "mask = sky_out == 0\n",
    "sky_in.U[mask] = np.nan\n",
    "sky_out[mask] = np.nan\n",
    "hp.gnomview(sky_in.U, rot=[0, -57.5], xsize=xsize, reso=6.9, sub=337, notext=True, min=-15, max=15, title='')\n",
    "hp.gnomview(sky_out, rot=[0, -57.5], xsize=xsize, reso=6.9, sub=338, notext=True, min=-15, max=15, title='')\n",
    "hp.gnomview(sky_in.U - sky_out, rot=[0, -57.5], xsize=xsize, reso=6.9, sub=339, notext=True, title='')\n",
    "pl.show()"
   ]
  },
  {
   "cell_type": "code",
   "execution_count": 12,
   "metadata": {
    "collapsed": false
   },
   "outputs": [],
   "source": [
    "## If you obtain O(1e-10) for the last column, that works!\n",
    "## Now it is time to put our hands in the world of systematics :-)"
   ]
  }
 ],
 "metadata": {
  "kernelspec": {
   "display_name": "Python 2",
   "language": "python",
   "name": "python2"
  },
  "language_info": {
   "codemirror_mode": {
    "name": "ipython",
    "version": 2
   },
   "file_extension": ".py",
   "mimetype": "text/x-python",
   "name": "python",
   "nbconvert_exporter": "python",
   "pygments_lexer": "ipython2",
   "version": "2.7.13"
  }
 },
 "nbformat": 4,
 "nbformat_minor": 1
}
